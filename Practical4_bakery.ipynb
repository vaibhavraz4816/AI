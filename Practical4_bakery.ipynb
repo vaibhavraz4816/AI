{
 "cells": [
  {
   "cell_type": "markdown",
   "metadata": {},
   "source": [
    "Practical 4"
   ]
  },
  {
   "cell_type": "code",
   "execution_count": 1,
   "metadata": {},
   "outputs": [],
   "source": [
    "# Q4.i) Run Apriori algorithm to find frequent itemsets and association rules for bakery dataset"
   ]
  },
  {
   "cell_type": "code",
   "execution_count": 33,
   "metadata": {
    "id": "GWmeSrUg5wft"
   },
   "outputs": [],
   "source": [
    "import pandas as pd\n",
    "import numpy as np\n",
    "import matplotlib.pyplot as plt"
   ]
  },
  {
   "cell_type": "code",
   "execution_count": 3,
   "metadata": {
    "colab": {
     "base_uri": "https://localhost:8080/"
    },
    "id": "_WWbOYrxDDVw",
    "outputId": "9b376adc-d3e0-49c4-9b2b-8a8e7f21ff7d"
   },
   "outputs": [
    {
     "name": "stdout",
     "output_type": "stream",
     "text": [
      "Requirement already satisfied: efficient_apriori in c:\\programdata\\anacondaa\\lib\\site-packages (2.0.3)\n"
     ]
    }
   ],
   "source": [
    "!pip install efficient_apriori"
   ]
  },
  {
   "cell_type": "code",
   "execution_count": 4,
   "metadata": {
    "id": "6vOf4bFBDDdG"
   },
   "outputs": [],
   "source": [
    " from efficient_apriori import apriori"
   ]
  },
  {
   "cell_type": "code",
   "execution_count": 9,
   "metadata": {
    "id": "cGecMDyj6M0m"
   },
   "outputs": [],
   "source": [
    "df = pd.read_csv('1000i.csv', header=None, names=['receipt no.','food','quantity'])"
   ]
  },
  {
   "cell_type": "code",
   "execution_count": 10,
   "metadata": {
    "colab": {
     "base_uri": "https://localhost:8080/",
     "height": 424
    },
    "id": "yi-cnW0M6cuG",
    "outputId": "6f8eb7a0-2842-4852-86fe-851185031662"
   },
   "outputs": [
    {
     "data": {
      "text/html": [
       "<div>\n",
       "<style scoped>\n",
       "    .dataframe tbody tr th:only-of-type {\n",
       "        vertical-align: middle;\n",
       "    }\n",
       "\n",
       "    .dataframe tbody tr th {\n",
       "        vertical-align: top;\n",
       "    }\n",
       "\n",
       "    .dataframe thead th {\n",
       "        text-align: right;\n",
       "    }\n",
       "</style>\n",
       "<table border=\"1\" class=\"dataframe\">\n",
       "  <thead>\n",
       "    <tr style=\"text-align: right;\">\n",
       "      <th></th>\n",
       "      <th>receipt no.</th>\n",
       "      <th>food</th>\n",
       "      <th>quantity</th>\n",
       "    </tr>\n",
       "  </thead>\n",
       "  <tbody>\n",
       "    <tr>\n",
       "      <td>0</td>\n",
       "      <td>1</td>\n",
       "      <td>3</td>\n",
       "      <td>7</td>\n",
       "    </tr>\n",
       "    <tr>\n",
       "      <td>1</td>\n",
       "      <td>1</td>\n",
       "      <td>4</td>\n",
       "      <td>15</td>\n",
       "    </tr>\n",
       "    <tr>\n",
       "      <td>2</td>\n",
       "      <td>1</td>\n",
       "      <td>2</td>\n",
       "      <td>49</td>\n",
       "    </tr>\n",
       "    <tr>\n",
       "      <td>3</td>\n",
       "      <td>1</td>\n",
       "      <td>5</td>\n",
       "      <td>44</td>\n",
       "    </tr>\n",
       "    <tr>\n",
       "      <td>4</td>\n",
       "      <td>2</td>\n",
       "      <td>1</td>\n",
       "      <td>1</td>\n",
       "    </tr>\n",
       "    <tr>\n",
       "      <td>...</td>\n",
       "      <td>...</td>\n",
       "      <td>...</td>\n",
       "      <td>...</td>\n",
       "    </tr>\n",
       "    <tr>\n",
       "      <td>3533</td>\n",
       "      <td>999</td>\n",
       "      <td>5</td>\n",
       "      <td>35</td>\n",
       "    </tr>\n",
       "    <tr>\n",
       "      <td>3534</td>\n",
       "      <td>999</td>\n",
       "      <td>2</td>\n",
       "      <td>3</td>\n",
       "    </tr>\n",
       "    <tr>\n",
       "      <td>3535</td>\n",
       "      <td>1000</td>\n",
       "      <td>4</td>\n",
       "      <td>15</td>\n",
       "    </tr>\n",
       "    <tr>\n",
       "      <td>3536</td>\n",
       "      <td>1000</td>\n",
       "      <td>3</td>\n",
       "      <td>47</td>\n",
       "    </tr>\n",
       "    <tr>\n",
       "      <td>3537</td>\n",
       "      <td>1000</td>\n",
       "      <td>3</td>\n",
       "      <td>34</td>\n",
       "    </tr>\n",
       "  </tbody>\n",
       "</table>\n",
       "<p>3538 rows × 3 columns</p>\n",
       "</div>"
      ],
      "text/plain": [
       "      receipt no.  food  quantity\n",
       "0               1     3         7\n",
       "1               1     4        15\n",
       "2               1     2        49\n",
       "3               1     5        44\n",
       "4               2     1         1\n",
       "...           ...   ...       ...\n",
       "3533          999     5        35\n",
       "3534          999     2         3\n",
       "3535         1000     4        15\n",
       "3536         1000     3        47\n",
       "3537         1000     3        34\n",
       "\n",
       "[3538 rows x 3 columns]"
      ]
     },
     "execution_count": 10,
     "metadata": {},
     "output_type": "execute_result"
    }
   ],
   "source": [
    "df"
   ]
  },
  {
   "cell_type": "code",
   "execution_count": 11,
   "metadata": {
    "id": "PdkxVnDR6iBV"
   },
   "outputs": [],
   "source": [
    "dict1 = {\n",
    "    1:\"milk\",2:\"sugar\",3:\"chocolate\",4:\"apples\",5:\"curd\"\n",
    "}"
   ]
  },
  {
   "cell_type": "code",
   "execution_count": 12,
   "metadata": {
    "id": "crtNfepJ7ANt"
   },
   "outputs": [],
   "source": [
    "d1 = pd.DataFrame(df)"
   ]
  },
  {
   "cell_type": "code",
   "execution_count": 13,
   "metadata": {
    "colab": {
     "base_uri": "https://localhost:8080/",
     "height": 424
    },
    "id": "BfSuowr1-Zye",
    "outputId": "fe8a50df-99ee-415f-a4dc-8e3796d35a4f"
   },
   "outputs": [
    {
     "data": {
      "text/html": [
       "<div>\n",
       "<style scoped>\n",
       "    .dataframe tbody tr th:only-of-type {\n",
       "        vertical-align: middle;\n",
       "    }\n",
       "\n",
       "    .dataframe tbody tr th {\n",
       "        vertical-align: top;\n",
       "    }\n",
       "\n",
       "    .dataframe thead th {\n",
       "        text-align: right;\n",
       "    }\n",
       "</style>\n",
       "<table border=\"1\" class=\"dataframe\">\n",
       "  <thead>\n",
       "    <tr style=\"text-align: right;\">\n",
       "      <th></th>\n",
       "      <th>receipt no.</th>\n",
       "      <th>food</th>\n",
       "      <th>quantity</th>\n",
       "    </tr>\n",
       "  </thead>\n",
       "  <tbody>\n",
       "    <tr>\n",
       "      <td>0</td>\n",
       "      <td>1</td>\n",
       "      <td>3</td>\n",
       "      <td>7</td>\n",
       "    </tr>\n",
       "    <tr>\n",
       "      <td>1</td>\n",
       "      <td>1</td>\n",
       "      <td>4</td>\n",
       "      <td>15</td>\n",
       "    </tr>\n",
       "    <tr>\n",
       "      <td>2</td>\n",
       "      <td>1</td>\n",
       "      <td>2</td>\n",
       "      <td>49</td>\n",
       "    </tr>\n",
       "    <tr>\n",
       "      <td>3</td>\n",
       "      <td>1</td>\n",
       "      <td>5</td>\n",
       "      <td>44</td>\n",
       "    </tr>\n",
       "    <tr>\n",
       "      <td>4</td>\n",
       "      <td>2</td>\n",
       "      <td>1</td>\n",
       "      <td>1</td>\n",
       "    </tr>\n",
       "    <tr>\n",
       "      <td>...</td>\n",
       "      <td>...</td>\n",
       "      <td>...</td>\n",
       "      <td>...</td>\n",
       "    </tr>\n",
       "    <tr>\n",
       "      <td>3533</td>\n",
       "      <td>999</td>\n",
       "      <td>5</td>\n",
       "      <td>35</td>\n",
       "    </tr>\n",
       "    <tr>\n",
       "      <td>3534</td>\n",
       "      <td>999</td>\n",
       "      <td>2</td>\n",
       "      <td>3</td>\n",
       "    </tr>\n",
       "    <tr>\n",
       "      <td>3535</td>\n",
       "      <td>1000</td>\n",
       "      <td>4</td>\n",
       "      <td>15</td>\n",
       "    </tr>\n",
       "    <tr>\n",
       "      <td>3536</td>\n",
       "      <td>1000</td>\n",
       "      <td>3</td>\n",
       "      <td>47</td>\n",
       "    </tr>\n",
       "    <tr>\n",
       "      <td>3537</td>\n",
       "      <td>1000</td>\n",
       "      <td>3</td>\n",
       "      <td>34</td>\n",
       "    </tr>\n",
       "  </tbody>\n",
       "</table>\n",
       "<p>3538 rows × 3 columns</p>\n",
       "</div>"
      ],
      "text/plain": [
       "      receipt no.  food  quantity\n",
       "0               1     3         7\n",
       "1               1     4        15\n",
       "2               1     2        49\n",
       "3               1     5        44\n",
       "4               2     1         1\n",
       "...           ...   ...       ...\n",
       "3533          999     5        35\n",
       "3534          999     2         3\n",
       "3535         1000     4        15\n",
       "3536         1000     3        47\n",
       "3537         1000     3        34\n",
       "\n",
       "[3538 rows x 3 columns]"
      ]
     },
     "execution_count": 13,
     "metadata": {},
     "output_type": "execute_result"
    }
   ],
   "source": [
    "d1"
   ]
  },
  {
   "cell_type": "code",
   "execution_count": 14,
   "metadata": {
    "id": "iq43FDVf-Z52"
   },
   "outputs": [],
   "source": [
    "d2 = pd.DataFrame(df)"
   ]
  },
  {
   "cell_type": "code",
   "execution_count": 15,
   "metadata": {
    "colab": {
     "base_uri": "https://localhost:8080/"
    },
    "id": "QpzdPaUb7DeU",
    "outputId": "9011dd5f-c61c-4ff5-ec6f-f6798efc04db"
   },
   "outputs": [
    {
     "data": {
      "text/plain": [
       "0       chocolate\n",
       "1          apples\n",
       "2           sugar\n",
       "3            curd\n",
       "4            milk\n",
       "          ...    \n",
       "3533         curd\n",
       "3534        sugar\n",
       "3535       apples\n",
       "3536    chocolate\n",
       "3537    chocolate\n",
       "Name: food, Length: 3538, dtype: object"
      ]
     },
     "execution_count": 15,
     "metadata": {},
     "output_type": "execute_result"
    }
   ],
   "source": [
    "d2['food'].map(dict1)"
   ]
  },
  {
   "cell_type": "code",
   "execution_count": 16,
   "metadata": {
    "id": "Hk3znJRx7FJ9"
   },
   "outputs": [],
   "source": [
    "d1['food'] = d1['food'].replace(dict1)"
   ]
  },
  {
   "cell_type": "code",
   "execution_count": 17,
   "metadata": {
    "colab": {
     "base_uri": "https://localhost:8080/",
     "height": 424
    },
    "id": "5dEBfJcR7aDe",
    "outputId": "b6ccceff-9d2f-4e3d-ece2-1031be15a9b2"
   },
   "outputs": [
    {
     "data": {
      "text/html": [
       "<div>\n",
       "<style scoped>\n",
       "    .dataframe tbody tr th:only-of-type {\n",
       "        vertical-align: middle;\n",
       "    }\n",
       "\n",
       "    .dataframe tbody tr th {\n",
       "        vertical-align: top;\n",
       "    }\n",
       "\n",
       "    .dataframe thead th {\n",
       "        text-align: right;\n",
       "    }\n",
       "</style>\n",
       "<table border=\"1\" class=\"dataframe\">\n",
       "  <thead>\n",
       "    <tr style=\"text-align: right;\">\n",
       "      <th></th>\n",
       "      <th>receipt no.</th>\n",
       "      <th>food</th>\n",
       "      <th>quantity</th>\n",
       "    </tr>\n",
       "  </thead>\n",
       "  <tbody>\n",
       "    <tr>\n",
       "      <td>0</td>\n",
       "      <td>1</td>\n",
       "      <td>chocolate</td>\n",
       "      <td>7</td>\n",
       "    </tr>\n",
       "    <tr>\n",
       "      <td>1</td>\n",
       "      <td>1</td>\n",
       "      <td>apples</td>\n",
       "      <td>15</td>\n",
       "    </tr>\n",
       "    <tr>\n",
       "      <td>2</td>\n",
       "      <td>1</td>\n",
       "      <td>sugar</td>\n",
       "      <td>49</td>\n",
       "    </tr>\n",
       "    <tr>\n",
       "      <td>3</td>\n",
       "      <td>1</td>\n",
       "      <td>curd</td>\n",
       "      <td>44</td>\n",
       "    </tr>\n",
       "    <tr>\n",
       "      <td>4</td>\n",
       "      <td>2</td>\n",
       "      <td>milk</td>\n",
       "      <td>1</td>\n",
       "    </tr>\n",
       "    <tr>\n",
       "      <td>...</td>\n",
       "      <td>...</td>\n",
       "      <td>...</td>\n",
       "      <td>...</td>\n",
       "    </tr>\n",
       "    <tr>\n",
       "      <td>3533</td>\n",
       "      <td>999</td>\n",
       "      <td>curd</td>\n",
       "      <td>35</td>\n",
       "    </tr>\n",
       "    <tr>\n",
       "      <td>3534</td>\n",
       "      <td>999</td>\n",
       "      <td>sugar</td>\n",
       "      <td>3</td>\n",
       "    </tr>\n",
       "    <tr>\n",
       "      <td>3535</td>\n",
       "      <td>1000</td>\n",
       "      <td>apples</td>\n",
       "      <td>15</td>\n",
       "    </tr>\n",
       "    <tr>\n",
       "      <td>3536</td>\n",
       "      <td>1000</td>\n",
       "      <td>chocolate</td>\n",
       "      <td>47</td>\n",
       "    </tr>\n",
       "    <tr>\n",
       "      <td>3537</td>\n",
       "      <td>1000</td>\n",
       "      <td>chocolate</td>\n",
       "      <td>34</td>\n",
       "    </tr>\n",
       "  </tbody>\n",
       "</table>\n",
       "<p>3538 rows × 3 columns</p>\n",
       "</div>"
      ],
      "text/plain": [
       "      receipt no.       food  quantity\n",
       "0               1  chocolate         7\n",
       "1               1     apples        15\n",
       "2               1      sugar        49\n",
       "3               1       curd        44\n",
       "4               2       milk         1\n",
       "...           ...        ...       ...\n",
       "3533          999       curd        35\n",
       "3534          999      sugar         3\n",
       "3535         1000     apples        15\n",
       "3536         1000  chocolate        47\n",
       "3537         1000  chocolate        34\n",
       "\n",
       "[3538 rows x 3 columns]"
      ]
     },
     "execution_count": 17,
     "metadata": {},
     "output_type": "execute_result"
    }
   ],
   "source": [
    "d1"
   ]
  },
  {
   "cell_type": "code",
   "execution_count": 18,
   "metadata": {
    "colab": {
     "base_uri": "https://localhost:8080/"
    },
    "id": "NSyhs3VA8p_l",
    "outputId": "1914884d-ef6c-4890-a37f-0922a52035d0"
   },
   "outputs": [
    {
     "data": {
      "text/plain": [
       "receipt no.\n",
       "1                        [chocolate, apples, sugar, curd]\n",
       "2                                           [milk, sugar]\n",
       "3                                            [milk, milk]\n",
       "4                    [milk, milk, curd, curd, milk, milk]\n",
       "5                     [apples, apples, sugar, curd, curd]\n",
       "                              ...                        \n",
       "996     [chocolate, sugar, chocolate, curd, chocolate,...\n",
       "997                      [chocolate, curd, apples, sugar]\n",
       "998                 [milk, chocolate, curd, apples, curd]\n",
       "999                                  [sugar, curd, sugar]\n",
       "1000                       [apples, chocolate, chocolate]\n",
       "Name: food, Length: 1000, dtype: object"
      ]
     },
     "execution_count": 18,
     "metadata": {},
     "output_type": "execute_result"
    }
   ],
   "source": [
    "d1.groupby(d1['receipt no.'])['food'].apply(lambda x: list(x))"
   ]
  },
  {
   "cell_type": "code",
   "execution_count": 19,
   "metadata": {
    "id": "8et67CgJCVQ6"
   },
   "outputs": [],
   "source": [
    "transactions = d1.groupby(d1['receipt no.'])['food'].apply(lambda x: list(x))"
   ]
  },
  {
   "cell_type": "code",
   "execution_count": 20,
   "metadata": {
    "id": "_IDFqlaXC1Zm"
   },
   "outputs": [],
   "source": [
    "# a) Use minimum support as 50% and minimum confidence as 75%\n",
    "\n",
    "itemsets, rules = apriori(transactions, min_support=0.5, min_confidence=0.75)"
   ]
  },
  {
   "cell_type": "code",
   "execution_count": 21,
   "metadata": {
    "colab": {
     "base_uri": "https://localhost:8080/"
    },
    "id": "2sJ0LZFPDJWe",
    "outputId": "584e57a1-9e31-444f-a205-eb615149f7c1"
   },
   "outputs": [
    {
     "data": {
      "text/plain": [
       "{1: {('chocolate',): 507, ('apples',): 540, ('milk',): 542}}"
      ]
     },
     "execution_count": 21,
     "metadata": {},
     "output_type": "execute_result"
    }
   ],
   "source": [
    "itemsets"
   ]
  },
  {
   "cell_type": "code",
   "execution_count": 22,
   "metadata": {
    "colab": {
     "base_uri": "https://localhost:8080/"
    },
    "id": "pTIwrSTsDKU-",
    "outputId": "8d3234f5-1925-4bd4-c035-352edfd2bb8f"
   },
   "outputs": [
    {
     "data": {
      "text/plain": [
       "[]"
      ]
     },
     "execution_count": 22,
     "metadata": {},
     "output_type": "execute_result"
    }
   ],
   "source": [
    "rules"
   ]
  },
  {
   "cell_type": "code",
   "execution_count": 27,
   "metadata": {
    "id": "gjX0uIzMDLzm"
   },
   "outputs": [],
   "source": [
    "itemset, rules = apriori(transactions, min_support=0.2, min_confidence=0.5)"
   ]
  },
  {
   "cell_type": "code",
   "execution_count": 28,
   "metadata": {
    "colab": {
     "base_uri": "https://localhost:8080/"
    },
    "id": "PLRweMVVDSOW",
    "outputId": "b582299c-f6bc-42eb-b9ef-f8bc33c8c8ff"
   },
   "outputs": [
    {
     "data": {
      "text/plain": [
       "{1: {('chocolate',): 507,\n",
       "  ('apples',): 540,\n",
       "  ('sugar',): 498,\n",
       "  ('curd',): 493,\n",
       "  ('milk',): 542},\n",
       " 2: {('apples', 'chocolate'): 251,\n",
       "  ('apples', 'curd'): 264,\n",
       "  ('apples', 'milk'): 271,\n",
       "  ('apples', 'sugar'): 258,\n",
       "  ('chocolate', 'curd'): 232,\n",
       "  ('chocolate', 'milk'): 251,\n",
       "  ('chocolate', 'sugar'): 240,\n",
       "  ('curd', 'milk'): 240,\n",
       "  ('curd', 'sugar'): 230,\n",
       "  ('milk', 'sugar'): 254}}"
      ]
     },
     "execution_count": 28,
     "metadata": {},
     "output_type": "execute_result"
    }
   ],
   "source": [
    "itemset"
   ]
  },
  {
   "cell_type": "code",
   "execution_count": 29,
   "metadata": {
    "colab": {
     "base_uri": "https://localhost:8080/"
    },
    "id": "p-UpGTJdDTKN",
    "outputId": "599fa5e7-ddb8-4bf9-ea2e-67945bfc09db"
   },
   "outputs": [
    {
     "data": {
      "text/plain": [
       "[{curd} -> {apples},\n",
       " {milk} -> {apples},\n",
       " {apples} -> {milk},\n",
       " {sugar} -> {apples},\n",
       " {sugar} -> {milk}]"
      ]
     },
     "execution_count": 29,
     "metadata": {},
     "output_type": "execute_result"
    }
   ],
   "source": [
    "rules"
   ]
  },
  {
   "cell_type": "code",
   "execution_count": 30,
   "metadata": {
    "colab": {
     "base_uri": "https://localhost:8080/"
    },
    "id": "8f_PNPfoKmtO",
    "outputId": "27ddeabd-42fb-4fba-b1cc-c47173927c07"
   },
   "outputs": [
    {
     "data": {
      "text/plain": [
       "dict_keys([1, 2])"
      ]
     },
     "execution_count": 30,
     "metadata": {},
     "output_type": "execute_result"
    }
   ],
   "source": [
    "itemset.keys()"
   ]
  },
  {
   "cell_type": "code",
   "execution_count": 34,
   "metadata": {
    "id": "sr5sUWzmIdsx"
   },
   "outputs": [],
   "source": [
    "x = []\n",
    "\n",
    "for i in itemset.keys():\n",
    "  x.append(pd.Series(itemset[i]))"
   ]
  },
  {
   "cell_type": "code",
   "execution_count": 35,
   "metadata": {
    "colab": {
     "base_uri": "https://localhost:8080/",
     "height": 389
    },
    "id": "AJPO2bIzI21C",
    "outputId": "d14cd55c-ea42-46e4-cfe5-1f15436d5c35"
   },
   "outputs": [
    {
     "data": {
      "text/plain": [
       "<matplotlib.axes._subplots.AxesSubplot at 0x8eca0c8>"
      ]
     },
     "execution_count": 35,
     "metadata": {},
     "output_type": "execute_result"
    },
    {
     "data": {
      "image/png": "[encoded data removed]",
      "text/plain": [
       "<Figure size 432x288 with 1 Axes>"
      ]
     },
     "metadata": {
      "needs_background": "light"
     },
     "output_type": "display_data"
    }
   ],
   "source": [
    "x[0].sort_values(ascending = False).plot.bar()"
   ]
  },
  {
   "cell_type": "code",
   "execution_count": 36,
   "metadata": {
    "colab": {
     "base_uri": "https://localhost:8080/",
     "height": 453
    },
    "id": "tdaEik9eJAfQ",
    "outputId": "8a188dff-1ae5-42e8-f460-a50f9e93c790"
   },
   "outputs": [
    {
     "data": {
      "text/plain": [
       "<matplotlib.axes._subplots.AxesSubplot at 0x9053848>"
      ]
     },
     "execution_count": 36,
     "metadata": {},
     "output_type": "execute_result"
    },
    {
     "data": {
      "image/png": "[encoded data removed]",
      "text/plain": [
       "<Figure size 432x288 with 1 Axes>"
      ]
     },
     "metadata": {
      "needs_background": "light"
     },
     "output_type": "display_data"
    }
   ],
   "source": [
    "x[1].plot.bar()"
   ]
  },
  {
   "cell_type": "code",
   "execution_count": null,
   "metadata": {
    "id": "Yzh_Dg2iJONw"
   },
   "outputs": [],
   "source": []
  }
 ],
 "metadata": {
  "colab": {
   "provenance": []
  },
  "kernelspec": {
   "display_name": "Python 3",
   "language": "python",
   "name": "python3"
  },
  "language_info": {
   "codemirror_mode": {
    "name": "ipython",
    "version": 3
   },
   "file_extension": ".py",
   "mimetype": "text/x-python",
   "name": "python",
   "nbconvert_exporter": "python",
   "pygments_lexer": "ipython3",
   "version": "3.7.4"
  }
 },
 "nbformat": 4,
 "nbformat_minor": 1
}
